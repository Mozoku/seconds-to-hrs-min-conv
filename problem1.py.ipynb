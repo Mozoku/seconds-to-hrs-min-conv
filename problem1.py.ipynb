{
 "cells": [
  {
   "cell_type": "code",
   "execution_count": null,
   "metadata": {},
   "outputs": [],
   "source": [
    "seconds_input = int(input(\"prompt\"))\n",
    "hours = 0\n",
    "minutes = 0 \n",
    "seconds = 0\n",
    "if seconds_input > 0 and seconds_input < 86401:\n",
    "    hours = seconds_input//3600\n",
    "    seconds_input %= 3600 \n",
    "    minutes = seconds_input//60\n",
    "    seconds_input %= 60 \n",
    "    seconds = seconds_input\n",
    "    print(\"{} {}, {} {}, {} {}:\".format(hours, \"hours\" if hours > 1 else \"hour\",\n",
    "                                        minutes, \"minutes\" if minutes > 1 else \"minute\",\n",
    "                                        seconds, \"seconds\" if seconds > 1 else \"second\") )\n",
    "else:\n",
    "    print (\"Values oustide the range 1 - 86400 not allowed!\")"
   ]
  },
  {
   "cell_type": "code",
   "execution_count": null,
   "metadata": {},
   "outputs": [],
   "source": []
  }
 ],
 "metadata": {
  "kernelspec": {
   "display_name": "Python 3",
   "language": "python",
   "name": "python3"
  },
  "language_info": {
   "codemirror_mode": {
    "name": "ipython",
    "version": 3
   },
   "file_extension": ".py",
   "mimetype": "text/x-python",
   "name": "python",
   "nbconvert_exporter": "python",
   "pygments_lexer": "ipython3",
   "version": "3.6.2"
  }
 },
 "nbformat": 4,
 "nbformat_minor": 2
}
